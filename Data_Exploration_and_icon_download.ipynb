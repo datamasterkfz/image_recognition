{
 "cells": [
  {
   "cell_type": "code",
   "execution_count": 3,
   "metadata": {},
   "outputs": [
    {
     "name": "stderr",
     "output_type": "stream",
     "text": [
      "C:\\Anaconda\\lib\\site-packages\\sklearn\\cross_validation.py:41: DeprecationWarning: This module was deprecated in version 0.18 in favor of the model_selection module into which all the refactored classes and functions are moved. Also note that the interface of the new CV iterators are different from that of this module. This module will be removed in 0.20.\n",
      "  \"This module will be removed in 0.20.\", DeprecationWarning)\n"
     ]
    }
   ],
   "source": [
    "import nltk\n",
    "import pprint\n",
    "import numpy as np\n",
    "import pandas as pd\n",
    "import os\n",
    "import urllib\n",
    "import re\n",
    "import codecs\n",
    "from random import shuffle\n",
    "from sklearn.cross_validation import train_test_split\n",
    "from shutil import copyfile\n",
    "from tqdm import *\n",
    "from PIL import Image\n",
    "pp = pprint.PrettyPrinter(indent=2, depth=2, width=80)\n",
    "\n",
    "os.chdir(\"C:\\TalkingData\\PackageName Combine\")"
   ]
  },
  {
   "cell_type": "markdown",
   "metadata": {},
   "source": [
    "# Original Data"
   ]
  },
  {
   "cell_type": "code",
   "execution_count": 9,
   "metadata": {},
   "outputs": [],
   "source": [
    "sample = pd.read_csv(\".\\data\\packageName.csv\",\n",
    "                     index_col = False,\n",
    "                     names = ['app_store','pkg_name','app_des','app_id','app_name','create_time','detail_url','developer',\n",
    "                              'download_times','hash','id','img_url','parent_class_id','parent_class_name','pkg_volume','plat',\n",
    "                              'release_time','score','sub_class','sub_class_id','tag','update_date_time','version'])"
   ]
  },
  {
   "cell_type": "code",
   "execution_count": 12,
   "metadata": {},
   "outputs": [
    {
     "name": "stdout",
     "output_type": "stream",
     "text": [
      "(97473, 23)\n"
     ]
    },
    {
     "data": {
      "text/html": [
       "<div>\n",
       "<style scoped>\n",
       "    .dataframe tbody tr th:only-of-type {\n",
       "        vertical-align: middle;\n",
       "    }\n",
       "\n",
       "    .dataframe tbody tr th {\n",
       "        vertical-align: top;\n",
       "    }\n",
       "\n",
       "    .dataframe thead th {\n",
       "        text-align: right;\n",
       "    }\n",
       "</style>\n",
       "<table border=\"1\" class=\"dataframe\">\n",
       "  <thead>\n",
       "    <tr style=\"text-align: right;\">\n",
       "      <th></th>\n",
       "      <th>app_store</th>\n",
       "      <th>pkg_name</th>\n",
       "      <th>app_des</th>\n",
       "      <th>app_id</th>\n",
       "      <th>app_name</th>\n",
       "      <th>create_time</th>\n",
       "      <th>detail_url</th>\n",
       "      <th>developer</th>\n",
       "      <th>download_times</th>\n",
       "      <th>hash</th>\n",
       "      <th>...</th>\n",
       "      <th>parent_class_name</th>\n",
       "      <th>pkg_volume</th>\n",
       "      <th>plat</th>\n",
       "      <th>release_time</th>\n",
       "      <th>score</th>\n",
       "      <th>sub_class</th>\n",
       "      <th>sub_class_id</th>\n",
       "      <th>tag</th>\n",
       "      <th>update_date_time</th>\n",
       "      <th>version</th>\n",
       "    </tr>\n",
       "  </thead>\n",
       "  <tbody>\n",
       "    <tr>\n",
       "      <th>0</th>\n",
       "      <td>360手机助手</td>\n",
       "      <td>by.game.binumbers</td>\n",
       "      <td>*容易上瘾的手机版2048游戏，好玩到根本就停不下来！快来挑战*强大脑！玩法简单：只要移动数...</td>\n",
       "      <td>1594547.0</td>\n",
       "      <td>2048</td>\n",
       "      <td>2017-09-18 09:47:26.0</td>\n",
       "      <td>http://openbox.mobilem.360.cn/detail/index/sof...</td>\n",
       "      <td>作者：Alexander Kulikovski</td>\n",
       "      <td>1034万次</td>\n",
       "      <td>1501289555253090889</td>\n",
       "      <td>...</td>\n",
       "      <td>单机游戏</td>\n",
       "      <td>5.88M</td>\n",
       "      <td>Android</td>\n",
       "      <td>更新时间：2014-09-12</td>\n",
       "      <td>8.9</td>\n",
       "      <td>NaN</td>\n",
       "      <td>NaN</td>\n",
       "      <td>消除 卡通 触屏 单机 休闲益智</td>\n",
       "      <td>2017-09-18 10:01:00.0</td>\n",
       "      <td>版本：2.7</td>\n",
       "    </tr>\n",
       "    <tr>\n",
       "      <th>1</th>\n",
       "      <td>360手机助手</td>\n",
       "      <td>com.ahajoy.foodDefense</td>\n",
       "      <td>世界美食和塔防的完美结合 在游戏中牵动你的味觉神经 游戏介绍： 美食厨防，舌尖上的塔防来了！...</td>\n",
       "      <td>2634761.0</td>\n",
       "      <td>美食厨防</td>\n",
       "      <td>2017-09-18 09:39:42.0</td>\n",
       "      <td>http://openbox.mobilem.360.cn/detail/index/sof...</td>\n",
       "      <td>作者：广州哈卓互联网科技有限公司</td>\n",
       "      <td>2万次</td>\n",
       "      <td>7798690187786870956</td>\n",
       "      <td>...</td>\n",
       "      <td>塔防策略</td>\n",
       "      <td>25.32M</td>\n",
       "      <td>Android</td>\n",
       "      <td>更新时间：2015-12-09</td>\n",
       "      <td>7.8</td>\n",
       "      <td>NaN</td>\n",
       "      <td>NaN</td>\n",
       "      <td>塔防 策略塔防</td>\n",
       "      <td>2017-09-18 12:02:15.0</td>\n",
       "      <td>版本：1.16.0</td>\n",
       "    </tr>\n",
       "    <tr>\n",
       "      <th>2</th>\n",
       "      <td>360手机助手</td>\n",
       "      <td>com.appsrainbow.SubwaySimulator4BerlinUBahnEdi...</td>\n",
       "      <td>你知道做一个火车司机是什么感觉？你对付黑暗的地铁隧道和长转弯，控制庞大的机器 --- 地铁，...</td>\n",
       "      <td>3308343.0</td>\n",
       "      <td>地铁模拟器 - 柏林版</td>\n",
       "      <td>2017-09-18 11:09:34.0</td>\n",
       "      <td>http://openbox.mobilem.360.cn/detail/index/sof...</td>\n",
       "      <td>作者：北京乐虹科技有限公司</td>\n",
       "      <td>3万次</td>\n",
       "      <td>-6344758532962789595</td>\n",
       "      <td>...</td>\n",
       "      <td>模拟经营</td>\n",
       "      <td>88.92M</td>\n",
       "      <td>Android</td>\n",
       "      <td>更新时间：2016-06-30</td>\n",
       "      <td>6.0</td>\n",
       "      <td>NaN</td>\n",
       "      <td>NaN</td>\n",
       "      <td>NaN</td>\n",
       "      <td>2017-09-18 11:23:10.0</td>\n",
       "      <td>版本：1.0</td>\n",
       "    </tr>\n",
       "    <tr>\n",
       "      <th>3</th>\n",
       "      <td>360手机助手</td>\n",
       "      <td>com.batovi.pixelcupsoccer2</td>\n",
       "      <td>像素世界杯16(Pixel Cup Soccer 16)是一款像素风足球游戏，游戏的玩法十分...</td>\n",
       "      <td>3446047.0</td>\n",
       "      <td>像素世界杯16</td>\n",
       "      <td>2017-09-18 09:52:18.0</td>\n",
       "      <td>http://openbox.mobilem.360.cn/detail/index/sof...</td>\n",
       "      <td>作者：Panic Art Studios</td>\n",
       "      <td>8万次</td>\n",
       "      <td>6332718646293212854</td>\n",
       "      <td>...</td>\n",
       "      <td>小编精选</td>\n",
       "      <td>58.42M</td>\n",
       "      <td>Android</td>\n",
       "      <td>更新时间：2016-08-24</td>\n",
       "      <td>6.4</td>\n",
       "      <td>NaN</td>\n",
       "      <td>NaN</td>\n",
       "      <td>像素 小编精选 竞技 足球 竞技游戏</td>\n",
       "      <td>2017-09-18 12:25:54.0</td>\n",
       "      <td>版本：1.0.1</td>\n",
       "    </tr>\n",
       "    <tr>\n",
       "      <th>4</th>\n",
       "      <td>360手机助手</td>\n",
       "      <td>com.bigpinwheel.game.runfast</td>\n",
       "      <td>跑得快打一副牌时，也称为\"关牌\"，主要流行于江浙一带，大学校园当中亦很盛行。    【玩法：...</td>\n",
       "      <td>151481.0</td>\n",
       "      <td>跑得快</td>\n",
       "      <td>2017-09-18 10:01:39.0</td>\n",
       "      <td>http://openbox.mobilem.360.cn/detail/index/sof...</td>\n",
       "      <td>作者：大风车工作室</td>\n",
       "      <td>149万次</td>\n",
       "      <td>2246562418762300821</td>\n",
       "      <td>...</td>\n",
       "      <td>棋牌天地</td>\n",
       "      <td>4.05M</td>\n",
       "      <td>Android</td>\n",
       "      <td>更新时间：2014-08-13</td>\n",
       "      <td>5.9</td>\n",
       "      <td>NaN</td>\n",
       "      <td>NaN</td>\n",
       "      <td>棋牌 跑得快 纸牌 单机</td>\n",
       "      <td>2017-09-18 10:14:48.0</td>\n",
       "      <td>版本：1.1110</td>\n",
       "    </tr>\n",
       "  </tbody>\n",
       "</table>\n",
       "<p>5 rows × 23 columns</p>\n",
       "</div>"
      ],
      "text/plain": [
       "  app_store                                           pkg_name  \\\n",
       "0   360手机助手                                  by.game.binumbers   \n",
       "1   360手机助手                             com.ahajoy.foodDefense   \n",
       "2   360手机助手  com.appsrainbow.SubwaySimulator4BerlinUBahnEdi...   \n",
       "3   360手机助手                         com.batovi.pixelcupsoccer2   \n",
       "4   360手机助手                       com.bigpinwheel.game.runfast   \n",
       "\n",
       "                                             app_des     app_id     app_name  \\\n",
       "0  *容易上瘾的手机版2048游戏，好玩到根本就停不下来！快来挑战*强大脑！玩法简单：只要移动数...  1594547.0         2048   \n",
       "1  世界美食和塔防的完美结合 在游戏中牵动你的味觉神经 游戏介绍： 美食厨防，舌尖上的塔防来了！...  2634761.0         美食厨防   \n",
       "2  你知道做一个火车司机是什么感觉？你对付黑暗的地铁隧道和长转弯，控制庞大的机器 --- 地铁，...  3308343.0  地铁模拟器 - 柏林版   \n",
       "3  像素世界杯16(Pixel Cup Soccer 16)是一款像素风足球游戏，游戏的玩法十分...  3446047.0      像素世界杯16   \n",
       "4  跑得快打一副牌时，也称为\"关牌\"，主要流行于江浙一带，大学校园当中亦很盛行。    【玩法：...   151481.0          跑得快   \n",
       "\n",
       "             create_time                                         detail_url  \\\n",
       "0  2017-09-18 09:47:26.0  http://openbox.mobilem.360.cn/detail/index/sof...   \n",
       "1  2017-09-18 09:39:42.0  http://openbox.mobilem.360.cn/detail/index/sof...   \n",
       "2  2017-09-18 11:09:34.0  http://openbox.mobilem.360.cn/detail/index/sof...   \n",
       "3  2017-09-18 09:52:18.0  http://openbox.mobilem.360.cn/detail/index/sof...   \n",
       "4  2017-09-18 10:01:39.0  http://openbox.mobilem.360.cn/detail/index/sof...   \n",
       "\n",
       "                 developer download_times                 hash    ...      \\\n",
       "0  作者：Alexander Kulikovski         1034万次  1501289555253090889    ...       \n",
       "1         作者：广州哈卓互联网科技有限公司            2万次  7798690187786870956    ...       \n",
       "2            作者：北京乐虹科技有限公司            3万次 -6344758532962789595    ...       \n",
       "3     作者：Panic Art Studios            8万次  6332718646293212854    ...       \n",
       "4                作者：大风车工作室          149万次  2246562418762300821    ...       \n",
       "\n",
       "  parent_class_name pkg_volume     plat     release_time score sub_class  \\\n",
       "0              单机游戏      5.88M  Android  更新时间：2014-09-12   8.9       NaN   \n",
       "1              塔防策略     25.32M  Android  更新时间：2015-12-09   7.8       NaN   \n",
       "2              模拟经营     88.92M  Android  更新时间：2016-06-30   6.0       NaN   \n",
       "3              小编精选     58.42M  Android  更新时间：2016-08-24   6.4       NaN   \n",
       "4              棋牌天地      4.05M  Android  更新时间：2014-08-13   5.9       NaN   \n",
       "\n",
       "  sub_class_id                  tag       update_date_time    version  \n",
       "0          NaN    消除 卡通 触屏 单机 休闲益智   2017-09-18 10:01:00.0     版本：2.7  \n",
       "1          NaN             塔防 策略塔防   2017-09-18 12:02:15.0  版本：1.16.0  \n",
       "2          NaN                  NaN  2017-09-18 11:23:10.0     版本：1.0  \n",
       "3          NaN  像素 小编精选 竞技 足球 竞技游戏   2017-09-18 12:25:54.0   版本：1.0.1  \n",
       "4          NaN        棋牌 跑得快 纸牌 单机   2017-09-18 10:14:48.0  版本：1.1110  \n",
       "\n",
       "[5 rows x 23 columns]"
      ]
     },
     "execution_count": 12,
     "metadata": {},
     "output_type": "execute_result"
    }
   ],
   "source": [
    "print(sample.shape)\n",
    "sample[0:5]"
   ]
  },
  {
   "cell_type": "markdown",
   "metadata": {},
   "source": [
    "## App Store (Source of data)"
   ]
  },
  {
   "cell_type": "code",
   "execution_count": 154,
   "metadata": {},
   "outputs": [
    {
     "data": {
      "text/plain": [
       "array(['360手机助手', '小米应用商店', '应用汇', '快用', '拇指玩', '豌豆荚'], dtype=object)"
      ]
     },
     "execution_count": 154,
     "metadata": {},
     "output_type": "execute_result"
    }
   ],
   "source": [
    "# App stores (Where the data comes from)\n",
    "sample.app_store.unique()"
   ]
  },
  {
   "cell_type": "markdown",
   "metadata": {},
   "source": [
    "## Package Name"
   ]
  },
  {
   "cell_type": "code",
   "execution_count": 156,
   "metadata": {},
   "outputs": [
    {
     "name": "stdout",
     "output_type": "stream",
     "text": [
      "Total of 97473 records have 3141 duplicated packageName values\n"
     ]
    }
   ],
   "source": [
    "num_unique_pkgName = len(sample.pkg_name.unique())\n",
    "num_records = sample.shape[0]\n",
    "print('Total of {} records have {} duplicated packageName values'.format(num_records,num_records-num_unique_pkgName))"
   ]
  },
  {
   "cell_type": "code",
   "execution_count": 11,
   "metadata": {},
   "outputs": [
    {
     "data": {
      "text/plain": [
       "array(['by.game.binumbers', 'com.ahajoy.foodDefense',\n",
       "       'com.appsrainbow.SubwaySimulator4BerlinUBahnEdition',\n",
       "       'com.batovi.pixelcupsoccer2', 'com.bigpinwheel.game.runfast',\n",
       "       'com.caohua.wddhh.qihoo', 'com.chyo.fleet.p360',\n",
       "       'com.cocos2d.fishingfun.qihoo', 'com.dddwan.summer.fondant',\n",
       "       'com.djinnworks.StickmanDownhill', 'com.echo.pixeldungeon',\n",
       "       'com.feelingtouch.sniperzombie', 'com.funcity.carsbattle',\n",
       "       'com.gamedo.hlw.qihoo', 'com.GF.PalaceM2_cn_cn.hwy_android_360',\n",
       "       'com.happyelements.AndroidClover.www', 'com.hoge.akazukin_2',\n",
       "       'com.hxjy.union.qihoo', 'com.istorm.kdyg.qihoo',\n",
       "       'com.jjh.qihoo.Fish', 'com.joym.ultraman.shouji360',\n",
       "       'com.kairogame.android.Frontier.qihoo', 'com.knight.union.qihoo',\n",
       "       'com.lemon.play.majiang', 'com.ltgame.hjlmzbz.c360',\n",
       "       'com.mars.fktzdzjtcl', 'com.Moyoufang.Stickmanbadminton',\n",
       "       'com.netease.hit.qihoo', 'com.netease.ssy.qihoo',\n",
       "       'com.noodlecake.tryharder.free', 'com.outfit7.mytalkingangelafree',\n",
       "       'com.pocketmon.qihoo', 'com.pwrd.mjj.one360', 'com.quantized.SiML',\n",
       "       'com.regin.gcld.qihoo', 'com.sg.atmyhswd.qihu',\n",
       "       'com.shanggame.tssy.s360', 'com.skycarpenter.fantashooting2cn',\n",
       "       'com.sohomob.patpatbattle', 'com.supercell.clashroyale.qihoo',\n",
       "       'com.szgd.GGBondAmazingHero.qihu', 'com.taojin.dungeon2.qihoo',\n",
       "       'com.tq.warandorder.qihoo', 'com.tuyoo.doudizhu.maintu',\n",
       "       'com.tuyoo.tractor.main', 'com.vg.AirplaneFlightSimulatoo',\n",
       "       'com.wildsimulator.crocodile', 'com.wyd.hero.dandandao.qihu',\n",
       "       'com.xiaoao.moto3d2.qihu', 'com.xy.kom',\n",
       "       'com.yinhan.huancheng.qihoo', 'com.youmeng.dragonwarriorml.qihoo',\n",
       "       'com.youzu.snsgz.qihoo360', 'com.zhangqu.game.tank3D.m360',\n",
       "       'com.ztgame.jl.qh360', 'jjsmjh.com.a360', 'net.HypercraftSarl.JC',\n",
       "       'air.com.FoodMakerDessertRecipes.fhp', 'asia.diningcity.app',\n",
       "       'cn.bkread.book', 'cn.jj', 'cn.touchv.aHflKx',\n",
       "       'coding.yu.javacompiler', 'com.android.dream2.xf',\n",
       "       'com.asyey.sport', 'com.baidu.mbaby', 'com.biotecan.www.yyb',\n",
       "       'com.bonefrog.dyjh.fhp', 'com.bulkypix.fortboyard.xc',\n",
       "       'com.cfinvo.standard', 'com.cinfor.csb',\n",
       "       'com.crisisfire.android.mi', 'com.czzdit.mit_atrade.J406_JSJ',\n",
       "       'com.demigame.h5.android.mi', 'com.diandian_tech.clerkapp',\n",
       "       'com.doding.colorkingpro2', 'com.dreamytyper.kingOfSoccer.fhp',\n",
       "       'com.emag.newlive', 'com.example.zqs.weatherandcourse',\n",
       "       'com.feixia.kkkk', 'com.forward.paipaibao',\n",
       "       'com.gameabc.zhanqiAndroid', 'com.gaodilook.app',\n",
       "       'com.gta.gangster.town.vice.fhp', 'com.gxw.offroadfree',\n",
       "       'com.haoyu.cskjd.mi', 'com.highnes.cjkcckd', 'com.hotbody.fitzero',\n",
       "       'com.huluxia.mctool', 'com.hxyt.dxdfz', 'com.ipeaksoft.keng12.mi',\n",
       "       'com.jbs.storephone', 'com.jhh', 'com.jiugeji.h5',\n",
       "       'com.joym.xiongdakuaipao', 'com.kangna.health28.app',\n",
       "       'com.kongregate.mobile.logictraces.google.fhp',\n",
       "       'com.leiting.gumballs.mi', 'com.limsam.kddn.mi',\n",
       "       'com.longkoo.djddz.mi'], dtype=object)"
      ]
     },
     "execution_count": 11,
     "metadata": {},
     "output_type": "execute_result"
    }
   ],
   "source": [
    "sample.pkg_name.unique()[0:100]"
   ]
  },
  {
   "cell_type": "markdown",
   "metadata": {},
   "source": [
    "## App Description\n",
    "\n",
    "1. Have nan values (Might also contains 'null'/'n/a'/empty etc.)\n",
    "    - Need to remove them before doing topic modeling or something\n",
    "2. Not all apps have app description\n",
    "3. Should consider removing meaningless information such as 系统，语言，更新时间 and etc.\n",
    "4. Try jieba (Unigram, Bigram, Trigram and etc.)\n",
    "5. LDA 提取不同主题的关键词 -> 分类模型特征"
   ]
  },
  {
   "cell_type": "code",
   "execution_count": 159,
   "metadata": {},
   "outputs": [
    {
     "name": "stdout",
     "output_type": "stream",
     "text": [
      "*容易上瘾的手机版2048游戏，好玩到根本就停不下来！快来挑战*强大脑！玩法简单：只要移动数字方块将相同的数字合并在一起，分数便会增加。你能成功达到2048吗？这不太容易！尽情享受，赢得胜利！ 游戏特色： - 色彩丰富的图形动画效果，令您赏心悦目 - 多种游戏模式：2048、4096、8192和无尽模式 - 保存成果：上一次的游戏资料会被保存，玩家可继续玩下一关 - 夜间模式 - 统计资料 - 在同一台设备上可创建不同玩家帐户 - 自动保存 - 平板电脑体验*优化，支持横屏模式 - 完美的音效 - 独特的设计 - 支持多国语言（包括中文） 以上描述中存在违反广告法的内容，自动用*代替 【基本信息】 作者：Alexander Kulikovski 更新时间：2014-09-12 版本：2.7 系统：Android 2.3以上 语言：中文\n"
     ]
    }
   ],
   "source": [
    "print(sample.app_des[0])"
   ]
  },
  {
   "cell_type": "code",
   "execution_count": 160,
   "metadata": {},
   "outputs": [
    {
     "name": "stdout",
     "output_type": "stream",
     "text": [
      "世界美食和塔防的完美结合 在游戏中牵动你的味觉神经 游戏介绍： 美食厨防，舌尖上的塔防来了！ 这款游戏将塔防与美食烹饪结合，玩家在享受游戏快乐的同时，还能体验世界各地不同的美食文化。 游戏背景： 为了成为*的厨师，你将踏上挑战美食大赛的旅途，利用塔防厨具修炼各种菜谱，但是凡事都不会一帆风顺，小心那些变异食材和贪婪的老鼠！ 游戏特点： 1、各大菜系的美食在游戏中一一呈现，指尖舌尖全都停不下来。 2、炮塔超级模式，一颗小小的能量豆让你瞬间改变战局。 3、食材的反击，它们可不会老老实实就让你加工了。 4、首创塔防游戏的双BOSS玩法， BOSS也会组队来袭！ 5、主流剧情之外还隐藏有若干特殊玩法关卡。 6、九大神器助你提升战斗厨艺。 7、暗藏彩蛋玩法等你发现。 客服信息 客服 QQ：1483758413 客服电邮：1483758413@qq.com 以上描述中存在违反广告法的内容，自动用*代替 【基本信息】 作者：广州哈卓互联网科技有限公司 更新时间：2015-12-09 版本：1.16.0 系统：Android 2.3以上 语言：中文 【更新内容】 1、降低了部分关卡难度； 2、再次强化了厨具超级模式时的暴击表现； 3、修正了叉子的爆击机率问题； 4、增加了签到奖励数值； 5、优化部分美术效果；\n"
     ]
    }
   ],
   "source": [
    "print(sample.app_des[1])"
   ]
  },
  {
   "cell_type": "code",
   "execution_count": 169,
   "metadata": {},
   "outputs": [
    {
     "name": "stdout",
     "output_type": "stream",
     "text": [
      "急用钱、借点钱、无抵押现金借款、无征信小额贷款、利率低信用贷款、放款快、机构多、小额贷款APP 小额贷款、现金借钱、信用借贷平台，30分钟极速放款， 500-50000元轻松借！ -小额贷款利息低：借款1万,月还50元,月息低至0.5%,每月还款无压力 -贷款口子更新快：保证大家能找到适合自己的贷款口子 -小额贷款放款快：审核通过快至30分钟放款 -一站式小额贷款服务：我们提供专业的贷款搜索、智能匹配、和申请等服务。 【产品特色】 1、闪电借款：极速小额贷款，线上全自动化审核，快至1小时到账。 2、额度灵活：小额轻松借，大额高至十万！ 3、门槛超低：无抵押无担保小额贷款，有手机号就能借。 4、操作便捷：现金借款进度实时查询，到期分期还款提醒，借还方便。 5、贷款攻略：教您如何贷款，如何提高信用积分，如何提额等 6、小额贷款利息低：综合比较选择适合自己的贷款产品。 7、征信查询：个人征信查询，提供醉新、醉全面的个人征信息查询和贷款服务。 8、社保查询：查询基本养老、基本医疗、生育保险、失业保险、工伤保险等缴费信息； 9、公积金查询：对接全国公积金管理中心，随时随地查询公积金缴存明细、余额；1：增加个人信息中心 2：增加在线客服 3：增加密码登陆 4：优化产品体验度\n"
     ]
    }
   ],
   "source": [
    "print(sample.app_des[200])"
   ]
  },
  {
   "cell_type": "code",
   "execution_count": 167,
   "metadata": {},
   "outputs": [
    {
     "name": "stdout",
     "output_type": "stream",
     "text": [
      "nan\n"
     ]
    }
   ],
   "source": [
    "print(sample.app_des[500])"
   ]
  },
  {
   "cell_type": "markdown",
   "metadata": {},
   "source": [
    "## App Name\n",
    "\n",
    "1. Remove punctuations\n",
    "2. Should we do something with the english characters or completely remove them?\n",
    "3. Hopefully to get some key words from topic modeling or TF-IDF (Consider doing this separately from app description, because the information in app description might overweight the information in app name)\n",
    "\n",
    "**Comment**: This feature might be useful for the classification of app category, but not necessarilly for combining packageName to metaID. Since different versions of apps might want to be consider with different metaID. They nearly have the exact same app name except one might have a digit indicating the version (EX. 植物大战僵尸，植物大战僵尸2)"
   ]
  },
  {
   "cell_type": "code",
   "execution_count": 8,
   "metadata": {},
   "outputs": [
    {
     "data": {
      "text/plain": [
       "89720"
      ]
     },
     "execution_count": 8,
     "metadata": {},
     "output_type": "execute_result"
    }
   ],
   "source": [
    "len(sample.app_name.unique())"
   ]
  },
  {
   "cell_type": "code",
   "execution_count": 170,
   "metadata": {},
   "outputs": [
    {
     "data": {
      "text/plain": [
       "0                2048\n",
       "1                美食厨防\n",
       "2         地铁模拟器 - 柏林版\n",
       "3             像素世界杯16\n",
       "4                 跑得快\n",
       "5          无敌大航海-后宫争霸\n",
       "6          暴风战舰-巅峰跨服战\n",
       "7          捕鱼达人4-休闲游戏\n",
       "8    夏目的美丽日记-恋爱换装手...\n",
       "9             火柴人山地飙车\n",
       "Name: app_name, dtype: object"
      ]
     },
     "execution_count": 170,
     "metadata": {},
     "output_type": "execute_result"
    }
   ],
   "source": [
    "sample.app_name[0:10]"
   ]
  },
  {
   "cell_type": "code",
   "execution_count": 171,
   "metadata": {},
   "outputs": [
    {
     "data": {
      "text/plain": [
       "200          口子来了小额贷款\n",
       "201    全局复制:Universal\n",
       "202              动漫滤镜\n",
       "203                潮极\n",
       "204               云展业\n",
       "205          IELTSBRO\n",
       "206         冷冻箱省电优化神器\n",
       "207       Armorfly浏览器\n",
       "208        肖邦大冒险2地狱归来\n",
       "209             老王万年历\n",
       "Name: app_name, dtype: object"
      ]
     },
     "execution_count": 171,
     "metadata": {},
     "output_type": "execute_result"
    }
   ],
   "source": [
    "sample.app_name[200:210]"
   ]
  },
  {
   "cell_type": "markdown",
   "metadata": {},
   "source": [
    "## Image URL"
   ]
  },
  {
   "cell_type": "code",
   "execution_count": 5,
   "metadata": {},
   "outputs": [
    {
     "name": "stderr",
     "output_type": "stream",
     "text": [
      "\r",
      "  0%|                                                   | 0/10 [00:00<?, ?it/s]"
     ]
    },
    {
     "name": "stdout",
     "output_type": "stream",
     "text": [
      "http://p17.qhimg.com/t01ec2372578902007f.png\n",
      "http://p19.qhimg.com/t0174b520a381f0c229.png\n",
      "http://p19.qhimg.com/t016d3b4cb4c877b932.png\n",
      "http://p15.qhimg.com/t01ce0eca01be6353b3.png\n",
      "http://p3.qhimg.com/t015a60f671741d72bf.png\n",
      "http://p15.qhimg.com/t01edd856e8ed3e48da.png\n",
      "http://p17.qhimg.com/t01803baa31846deb5e.png\n",
      "http://p15.qhimg.com/t0176fba1d2d6b04367.png\n",
      "http://p18.qhimg.com/t01d12b1e5fd718e208.png\n",
      "http://p1.qhimg.com/t01f4c4d3c31db7dca4.png\n"
     ]
    },
    {
     "name": "stderr",
     "output_type": "stream",
     "text": [
      "100%|█████████████████████████████████████████| 10/10 [00:00<00:00, 163.92it/s]\n"
     ]
    }
   ],
   "source": [
    "for i in tqdm(range(10)):\n",
    "    print(sample.img_url[i])"
   ]
  },
  {
   "cell_type": "markdown",
   "metadata": {},
   "source": [
    "## Detail URL\n",
    "\n",
    "This is the URL of the source of web scaping (Sometime the URL doesn't exist anymore)"
   ]
  },
  {
   "cell_type": "code",
   "execution_count": 177,
   "metadata": {},
   "outputs": [
    {
     "name": "stdout",
     "output_type": "stream",
     "text": [
      "http://openbox.mobilem.360.cn/detail/index/soft_id/1594547?recrefer=L_G_app_1594547|old\n",
      "http://openbox.mobilem.360.cn/detail/index/soft_id/2634761?recrefer=L_G_app_2634761|old\n",
      "http://openbox.mobilem.360.cn/detail/index/soft_id/3308343?recrefer=L_G_app_3308343|old\n",
      "http://openbox.mobilem.360.cn/detail/index/soft_id/3446047?recrefer=L_G_app_3446047|old\n",
      "http://openbox.mobilem.360.cn/detail/index/soft_id/151481?recrefer=L_G_app_151481|old\n",
      "http://openbox.mobilem.360.cn/detail/index/soft_id/3726136?recrefer=L_G_app_3726136|old\n",
      "http://openbox.mobilem.360.cn/detail/index/soft_id/3304224?recrefer=L_G_app_3304224|old\n",
      "http://openbox.mobilem.360.cn/detail/index/soft_id/3372511?recrefer=L_G_app_3372511|old\n",
      "http://openbox.mobilem.360.cn/detail/index/soft_id/3127698?recrefer=L_G_app_3127698|old\n",
      "http://openbox.mobilem.360.cn/detail/index/soft_id/738645?recrefer=L_G_app_738645|old\n"
     ]
    }
   ],
   "source": [
    "for i in range(10):\n",
    "    print(sample.detail_url[i])"
   ]
  },
  {
   "cell_type": "markdown",
   "metadata": {},
   "source": [
    "## Developer\n",
    "\n",
    "Can be used to double-check if the combination of package name is reasonable (Two apps from different developer usually shouldn't be combined together)\n",
    "\n",
    "Several text cleaning steps:\n",
    "1. Remove meaningless information such as: \n",
    "    - 作者:\n",
    "    - 科技有限公司\n",
    "    - 工作室 (Studios)\n",
    "2. Convert to lowercase\n",
    "3. Remove punctuations"
   ]
  },
  {
   "cell_type": "code",
   "execution_count": 178,
   "metadata": {},
   "outputs": [
    {
     "data": {
      "text/plain": [
       "0    作者：Alexander Kulikovski\n",
       "1           作者：广州哈卓互联网科技有限公司\n",
       "2              作者：北京乐虹科技有限公司\n",
       "3       作者：Panic Art Studios\n",
       "4                  作者：大风车工作室\n",
       "5          作者：湖南草花互动网络科技有限公司\n",
       "6          作者：深圳市中手游网络科技有限公司\n",
       "7            作者：天津触控盛世科技有限公司\n",
       "8            作者：天津英雄互娱科技有限公司\n",
       "9         作者：Djinnworks e.U.\n",
       "Name: developer, dtype: object"
      ]
     },
     "execution_count": 178,
     "metadata": {},
     "output_type": "execute_result"
    }
   ],
   "source": [
    "sample.developer[0:10]"
   ]
  },
  {
   "cell_type": "markdown",
   "metadata": {},
   "source": [
    "## Download Times\n",
    "\n",
    "Can't think of its usefulness at this moment....."
   ]
  },
  {
   "cell_type": "code",
   "execution_count": 183,
   "metadata": {},
   "outputs": [
    {
     "data": {
      "text/plain": [
       "0    1034万次\n",
       "1       2万次\n",
       "2       3万次\n",
       "3       8万次\n",
       "4     149万次\n",
       "Name: download_times, dtype: object"
      ]
     },
     "execution_count": 183,
     "metadata": {},
     "output_type": "execute_result"
    }
   ],
   "source": [
    "sample.download_times[0:5]"
   ]
  },
  {
   "cell_type": "markdown",
   "metadata": {},
   "source": [
    "## Sub Class"
   ]
  },
  {
   "cell_type": "code",
   "execution_count": 186,
   "metadata": {},
   "outputs": [
    {
     "name": "stdout",
     "output_type": "stream",
     "text": [
      "78\n"
     ]
    },
    {
     "data": {
      "text/plain": [
       "array([nan, '解谜', '逃脱', '发泄', '战略', '冒险', '第一人称', '音乐', '迷宫', '战术', '海战',\n",
       "       '生存', '建造', '战棋', '枪战', '回合', '闯关', '其他球类', '飞行', '拼图', '第三人称',\n",
       "       '消除', '城市', '拉力赛', 'RPG', '塔防', '恋爱', '换装', '养成', '狙击', '即时', '跑酷',\n",
       "       '扑克', '经营', '直线竞速', '街道赛', '探索', '交通', '家园', '祖玛', '跳跃', '自行车',\n",
       "       '格斗', '极限运动', '躲避', '赛马', '农场', '桌球', '摩托车', '越野赛', '方块', '弹球',\n",
       "       '足球', '找茬', '捕鱼', '平衡', '篮球', '答题', '坦克', '水上竞速', '餐厅', 'MOBA',\n",
       "       '趣味运动', '卡丁车', '麻将', '斗地主', '帝国', '动物', '水上运动', '跳棋', '德州', '数独',\n",
       "       '围棋', '象棋', '三国杀', '飞行棋', '七巧板', '矿洞'], dtype=object)"
      ]
     },
     "execution_count": 186,
     "metadata": {},
     "output_type": "execute_result"
    }
   ],
   "source": [
    "print(len(sample.sub_class.unique()))\n",
    "sample.sub_class.unique()"
   ]
  },
  {
   "cell_type": "markdown",
   "metadata": {},
   "source": [
    "## Tag"
   ]
  },
  {
   "cell_type": "code",
   "execution_count": 187,
   "metadata": {},
   "outputs": [
    {
     "name": "stdout",
     "output_type": "stream",
     "text": [
      "6204\n"
     ]
    },
    {
     "data": {
      "text/plain": [
       "array(['消除 卡通 触屏 单机 休闲益智 ', '塔防 策略塔防 ', nan, ...,\n",
       "       '生活应用 运动 运动健康 出行必用 健身 运动·健身 健身应用 目标 ', '益智休闲 对战 棋牌 黑白 棋类 黑白棋 ',\n",
       "       '休闲 益智休闲 趣味 消除 战斗 经典 动作 关卡 '], dtype=object)"
      ]
     },
     "execution_count": 187,
     "metadata": {},
     "output_type": "execute_result"
    }
   ],
   "source": [
    "print(len(sample.tag.unique()))\n",
    "sample.tag.unique()"
   ]
  },
  {
   "cell_type": "markdown",
   "metadata": {},
   "source": [
    "# Labled Data"
   ]
  },
  {
   "cell_type": "code",
   "execution_count": 4,
   "metadata": {},
   "outputs": [],
   "source": [
    "sample_standard = pd.read_csv(\".\\data\\sample_standard\",\n",
    "                   header = 0,\n",
    "                   names = ['metaid','appName_orig','name_en','name_ch','appName_standard','packageName','hash','iconurl','typeid',\n",
    "                            'parentid','TD_category','developerName','version','update','platform','reference','comment','lastupdate'])"
   ]
  },
  {
   "cell_type": "code",
   "execution_count": 5,
   "metadata": {},
   "outputs": [
    {
     "data": {
      "text/plain": [
       "15502"
      ]
     },
     "execution_count": 5,
     "metadata": {},
     "output_type": "execute_result"
    }
   ],
   "source": [
    "len(sample_standard.metaid.unique())"
   ]
  },
  {
   "cell_type": "code",
   "execution_count": 9,
   "metadata": {},
   "outputs": [
    {
     "data": {
      "text/plain": [
       "(19289, 18)"
      ]
     },
     "execution_count": 9,
     "metadata": {},
     "output_type": "execute_result"
    }
   ],
   "source": [
    "sample_standard.shape"
   ]
  },
  {
   "cell_type": "code",
   "execution_count": 10,
   "metadata": {
    "scrolled": false
   },
   "outputs": [
    {
     "data": {
      "text/html": [
       "<div>\n",
       "<style scoped>\n",
       "    .dataframe tbody tr th:only-of-type {\n",
       "        vertical-align: middle;\n",
       "    }\n",
       "\n",
       "    .dataframe tbody tr th {\n",
       "        vertical-align: top;\n",
       "    }\n",
       "\n",
       "    .dataframe thead th {\n",
       "        text-align: right;\n",
       "    }\n",
       "</style>\n",
       "<table border=\"1\" class=\"dataframe\">\n",
       "  <thead>\n",
       "    <tr style=\"text-align: right;\">\n",
       "      <th></th>\n",
       "      <th>metaid</th>\n",
       "      <th>appName_orig</th>\n",
       "      <th>name_en</th>\n",
       "      <th>name_ch</th>\n",
       "      <th>appName_standard</th>\n",
       "      <th>packageName</th>\n",
       "      <th>hash</th>\n",
       "      <th>iconurl</th>\n",
       "      <th>typeid</th>\n",
       "      <th>parentid</th>\n",
       "      <th>TD_category</th>\n",
       "      <th>developerName</th>\n",
       "      <th>version</th>\n",
       "      <th>update</th>\n",
       "      <th>platform</th>\n",
       "      <th>reference</th>\n",
       "      <th>comment</th>\n",
       "      <th>lastupdate</th>\n",
       "    </tr>\n",
       "  </thead>\n",
       "  <tbody>\n",
       "    <tr>\n",
       "      <th>500</th>\n",
       "      <td>357</td>\n",
       "      <td>消灭星星2016-送话费</td>\n",
       "      <td>NaN</td>\n",
       "      <td>xiaomiexingxing2016-songhuafei</td>\n",
       "      <td>NaN</td>\n",
       "      <td>com.zplay.migupopstar</td>\n",
       "      <td>5395120606622297847</td>\n",
       "      <td>http://img02.muzhiwan.com/2017/05/24/com.zplay...</td>\n",
       "      <td>T201300</td>\n",
       "      <td>T200000</td>\n",
       "      <td>休闲游戏</td>\n",
       "      <td>NaN</td>\n",
       "      <td>v1.3.6</td>\n",
       "      <td>2017-08-04</td>\n",
       "      <td>2</td>\n",
       "      <td>http://www.muzhiwan.com/com.zplay.migupopstar....</td>\n",
       "      <td>NaN</td>\n",
       "      <td>2018/2/26</td>\n",
       "    </tr>\n",
       "    <tr>\n",
       "      <th>501</th>\n",
       "      <td>357</td>\n",
       "      <td>消灭星星2016-送话费</td>\n",
       "      <td>NaN</td>\n",
       "      <td>xiaomiexingxing2016-songhuafei</td>\n",
       "      <td>NaN</td>\n",
       "      <td>com.zplay.migupopstar.anzhi</td>\n",
       "      <td>-8577171809196900289</td>\n",
       "      <td>http://pp.myapp.com/ma_icon/0/icon_12187251_14...</td>\n",
       "      <td>T201300</td>\n",
       "      <td>T200000</td>\n",
       "      <td>休闲游戏</td>\n",
       "      <td>NaN</td>\n",
       "      <td>NaN</td>\n",
       "      <td>NaN</td>\n",
       "      <td>2</td>\n",
       "      <td>NaN</td>\n",
       "      <td>NaN</td>\n",
       "      <td>2018/2/26</td>\n",
       "    </tr>\n",
       "    <tr>\n",
       "      <th>502</th>\n",
       "      <td>359</td>\n",
       "      <td>铁路12306</td>\n",
       "      <td>NaN</td>\n",
       "      <td>tielu12306</td>\n",
       "      <td>铁路12306</td>\n",
       "      <td>com.MobileTicket</td>\n",
       "      <td>7499170796297973860</td>\n",
       "      <td>http://p7.qhimg.com/t0106019ab0b5744df6.png</td>\n",
       "      <td>T104040</td>\n",
       "      <td>T104000</td>\n",
       "      <td>铁路</td>\n",
       "      <td>中铁程科技有限责任公司</td>\n",
       "      <td>2.8</td>\n",
       "      <td>2017/7/17</td>\n",
       "      <td>2</td>\n",
       "      <td>http://zhushou.360.cn/detail/index/soft_id/903638</td>\n",
       "      <td>NaN</td>\n",
       "      <td>2018/2/26</td>\n",
       "    </tr>\n",
       "    <tr>\n",
       "      <th>503</th>\n",
       "      <td>360</td>\n",
       "      <td>消灭星星PopStar</td>\n",
       "      <td>NaN</td>\n",
       "      <td>xiaomiexingxingPopStar</td>\n",
       "      <td>消灭星星PopStar</td>\n",
       "      <td>com.zplay.popstar.zw.vivo</td>\n",
       "      <td>-5572588461193434636</td>\n",
       "      <td>http://pp.myapp.com/ma_icon/0/icon_3167_146124...</td>\n",
       "      <td>T201300</td>\n",
       "      <td>T200000</td>\n",
       "      <td>休闲游戏</td>\n",
       "      <td>NaN</td>\n",
       "      <td>NaN</td>\n",
       "      <td>NaN</td>\n",
       "      <td>2</td>\n",
       "      <td>NaN</td>\n",
       "      <td>NaN</td>\n",
       "      <td>2018/2/26</td>\n",
       "    </tr>\n",
       "    <tr>\n",
       "      <th>504</th>\n",
       "      <td>360</td>\n",
       "      <td>消灭星星PopStar</td>\n",
       "      <td>NaN</td>\n",
       "      <td>xiaomiexingxingPopStar</td>\n",
       "      <td>NaN</td>\n",
       "      <td>com.zplay.popstar.zw.oppo</td>\n",
       "      <td>-5572588461209051932</td>\n",
       "      <td>http://pp.myapp.com/ma_icon/0/icon_3167_146124...</td>\n",
       "      <td>T201300</td>\n",
       "      <td>T200000</td>\n",
       "      <td>休闲游戏</td>\n",
       "      <td>NaN</td>\n",
       "      <td>NaN</td>\n",
       "      <td>NaN</td>\n",
       "      <td>2</td>\n",
       "      <td>NaN</td>\n",
       "      <td>NaN</td>\n",
       "      <td>2018/2/26</td>\n",
       "    </tr>\n",
       "    <tr>\n",
       "      <th>505</th>\n",
       "      <td>360</td>\n",
       "      <td>消灭星星PopStar</td>\n",
       "      <td>NaN</td>\n",
       "      <td>xiaomiexingxingPopStar</td>\n",
       "      <td>NaN</td>\n",
       "      <td>com.brianbaek.popstar.y2345</td>\n",
       "      <td>7412603283392267567</td>\n",
       "      <td>http://pp.myapp.com/ma_icon/0/icon_3167_146124...</td>\n",
       "      <td>T201300</td>\n",
       "      <td>T200000</td>\n",
       "      <td>休闲游戏</td>\n",
       "      <td>NaN</td>\n",
       "      <td>NaN</td>\n",
       "      <td>NaN</td>\n",
       "      <td>2</td>\n",
       "      <td>NaN</td>\n",
       "      <td>NaN</td>\n",
       "      <td>2018/2/26</td>\n",
       "    </tr>\n",
       "    <tr>\n",
       "      <th>506</th>\n",
       "      <td>360</td>\n",
       "      <td>消灭星星PopStar</td>\n",
       "      <td>NaN</td>\n",
       "      <td>xiaomiexingxingPopStar</td>\n",
       "      <td>NaN</td>\n",
       "      <td>com.tencent.tmgp.popstar2sns</td>\n",
       "      <td>-6350444081192499620</td>\n",
       "      <td>http://pp.myapp.com/ma_icon/0/icon_3167_146124...</td>\n",
       "      <td>T201300</td>\n",
       "      <td>T200000</td>\n",
       "      <td>休闲游戏</td>\n",
       "      <td>NaN</td>\n",
       "      <td>NaN</td>\n",
       "      <td>NaN</td>\n",
       "      <td>2</td>\n",
       "      <td>NaN</td>\n",
       "      <td>NaN</td>\n",
       "      <td>2018/2/26</td>\n",
       "    </tr>\n",
       "    <tr>\n",
       "      <th>507</th>\n",
       "      <td>360</td>\n",
       "      <td>消灭星星PopStar</td>\n",
       "      <td>NaN</td>\n",
       "      <td>xiaomiexingxingPopStar</td>\n",
       "      <td>NaN</td>\n",
       "      <td>com.zplay.popstar.zw.zzhd2</td>\n",
       "      <td>7860674533258102910</td>\n",
       "      <td>http://pp.myapp.com/ma_icon/0/icon_3167_146124...</td>\n",
       "      <td>T201300</td>\n",
       "      <td>T200000</td>\n",
       "      <td>休闲游戏</td>\n",
       "      <td>NaN</td>\n",
       "      <td>NaN</td>\n",
       "      <td>NaN</td>\n",
       "      <td>2</td>\n",
       "      <td>NaN</td>\n",
       "      <td>NaN</td>\n",
       "      <td>2018/2/26</td>\n",
       "    </tr>\n",
       "    <tr>\n",
       "      <th>508</th>\n",
       "      <td>360</td>\n",
       "      <td>消灭星星PopStar</td>\n",
       "      <td>NaN</td>\n",
       "      <td>xiaomiexingxingPopStar</td>\n",
       "      <td>NaN</td>\n",
       "      <td>com.brianbaek.popstar.youku</td>\n",
       "      <td>7412603283530541013</td>\n",
       "      <td>http://pp.myapp.com/ma_icon/0/icon_3167_146124...</td>\n",
       "      <td>T201300</td>\n",
       "      <td>T200000</td>\n",
       "      <td>休闲游戏</td>\n",
       "      <td>NaN</td>\n",
       "      <td>NaN</td>\n",
       "      <td>NaN</td>\n",
       "      <td>2</td>\n",
       "      <td>NaN</td>\n",
       "      <td>NaN</td>\n",
       "      <td>2018/2/26</td>\n",
       "    </tr>\n",
       "    <tr>\n",
       "      <th>509</th>\n",
       "      <td>360</td>\n",
       "      <td>消灭星星PopStar</td>\n",
       "      <td>NaN</td>\n",
       "      <td>xiaomiexingxingPopStar</td>\n",
       "      <td>NaN</td>\n",
       "      <td>com.zplay.popstar.zw.kn</td>\n",
       "      <td>8832313004207806511</td>\n",
       "      <td>http://pp.myapp.com/ma_icon/0/icon_3167_146124...</td>\n",
       "      <td>T201300</td>\n",
       "      <td>T200000</td>\n",
       "      <td>休闲游戏</td>\n",
       "      <td>NaN</td>\n",
       "      <td>NaN</td>\n",
       "      <td>NaN</td>\n",
       "      <td>2</td>\n",
       "      <td>NaN</td>\n",
       "      <td>NaN</td>\n",
       "      <td>2018/2/26</td>\n",
       "    </tr>\n",
       "  </tbody>\n",
       "</table>\n",
       "</div>"
      ],
      "text/plain": [
       "     metaid  appName_orig name_en                         name_ch  \\\n",
       "500     357  消灭星星2016-送话费     NaN  xiaomiexingxing2016-songhuafei   \n",
       "501     357  消灭星星2016-送话费     NaN  xiaomiexingxing2016-songhuafei   \n",
       "502     359       铁路12306     NaN                      tielu12306   \n",
       "503     360   消灭星星PopStar     NaN          xiaomiexingxingPopStar   \n",
       "504     360   消灭星星PopStar     NaN          xiaomiexingxingPopStar   \n",
       "505     360   消灭星星PopStar     NaN          xiaomiexingxingPopStar   \n",
       "506     360   消灭星星PopStar     NaN          xiaomiexingxingPopStar   \n",
       "507     360   消灭星星PopStar     NaN          xiaomiexingxingPopStar   \n",
       "508     360   消灭星星PopStar     NaN          xiaomiexingxingPopStar   \n",
       "509     360   消灭星星PopStar     NaN          xiaomiexingxingPopStar   \n",
       "\n",
       "    appName_standard                   packageName                 hash  \\\n",
       "500              NaN         com.zplay.migupopstar  5395120606622297847   \n",
       "501              NaN   com.zplay.migupopstar.anzhi -8577171809196900289   \n",
       "502          铁路12306              com.MobileTicket  7499170796297973860   \n",
       "503      消灭星星PopStar     com.zplay.popstar.zw.vivo -5572588461193434636   \n",
       "504              NaN     com.zplay.popstar.zw.oppo -5572588461209051932   \n",
       "505              NaN   com.brianbaek.popstar.y2345  7412603283392267567   \n",
       "506              NaN  com.tencent.tmgp.popstar2sns -6350444081192499620   \n",
       "507              NaN    com.zplay.popstar.zw.zzhd2  7860674533258102910   \n",
       "508              NaN   com.brianbaek.popstar.youku  7412603283530541013   \n",
       "509              NaN       com.zplay.popstar.zw.kn  8832313004207806511   \n",
       "\n",
       "                                               iconurl   typeid parentid  \\\n",
       "500  http://img02.muzhiwan.com/2017/05/24/com.zplay...  T201300  T200000   \n",
       "501  http://pp.myapp.com/ma_icon/0/icon_12187251_14...  T201300  T200000   \n",
       "502        http://p7.qhimg.com/t0106019ab0b5744df6.png  T104040  T104000   \n",
       "503  http://pp.myapp.com/ma_icon/0/icon_3167_146124...  T201300  T200000   \n",
       "504  http://pp.myapp.com/ma_icon/0/icon_3167_146124...  T201300  T200000   \n",
       "505  http://pp.myapp.com/ma_icon/0/icon_3167_146124...  T201300  T200000   \n",
       "506  http://pp.myapp.com/ma_icon/0/icon_3167_146124...  T201300  T200000   \n",
       "507  http://pp.myapp.com/ma_icon/0/icon_3167_146124...  T201300  T200000   \n",
       "508  http://pp.myapp.com/ma_icon/0/icon_3167_146124...  T201300  T200000   \n",
       "509  http://pp.myapp.com/ma_icon/0/icon_3167_146124...  T201300  T200000   \n",
       "\n",
       "    TD_category developerName version      update  platform  \\\n",
       "500        休闲游戏           NaN  v1.3.6  2017-08-04         2   \n",
       "501        休闲游戏           NaN     NaN         NaN         2   \n",
       "502          铁路   中铁程科技有限责任公司     2.8   2017/7/17         2   \n",
       "503        休闲游戏           NaN     NaN         NaN         2   \n",
       "504        休闲游戏           NaN     NaN         NaN         2   \n",
       "505        休闲游戏           NaN     NaN         NaN         2   \n",
       "506        休闲游戏           NaN     NaN         NaN         2   \n",
       "507        休闲游戏           NaN     NaN         NaN         2   \n",
       "508        休闲游戏           NaN     NaN         NaN         2   \n",
       "509        休闲游戏           NaN     NaN         NaN         2   \n",
       "\n",
       "                                             reference  comment lastupdate  \n",
       "500  http://www.muzhiwan.com/com.zplay.migupopstar....      NaN  2018/2/26  \n",
       "501                                                NaN      NaN  2018/2/26  \n",
       "502  http://zhushou.360.cn/detail/index/soft_id/903638      NaN  2018/2/26  \n",
       "503                                                NaN      NaN  2018/2/26  \n",
       "504                                                NaN      NaN  2018/2/26  \n",
       "505                                                NaN      NaN  2018/2/26  \n",
       "506                                                NaN      NaN  2018/2/26  \n",
       "507                                                NaN      NaN  2018/2/26  \n",
       "508                                                NaN      NaN  2018/2/26  \n",
       "509                                                NaN      NaN  2018/2/26  "
      ]
     },
     "execution_count": 10,
     "metadata": {},
     "output_type": "execute_result"
    }
   ],
   "source": [
    "sample_standard[500:510]"
   ]
  },
  {
   "cell_type": "markdown",
   "metadata": {},
   "source": [
    "# Download App Icon Images"
   ]
  },
  {
   "cell_type": "code",
   "execution_count": 19,
   "metadata": {},
   "outputs": [],
   "source": [
    "def download_icon(data, id_col, url_col): # The data must be a pandas dataframe and have two columns: metaid, icon_url\n",
    "    \"\"\"\n",
    "    This function dowlands icon image as .jpg file from URL. Some images can only be downloaded while connect to VPN, which helps\n",
    "    us access website oversea.\n",
    "\n",
    "    The target path for downloaded image is: \"C:/TalkingData/PackageName Combine/image\"\n",
    "\n",
    "    The folder will contains both **The downlaoded image** as well as **Error_Log.txt**, \n",
    "    which records the log of errors for images that failed to download\n",
    "    \"\"\"\n",
    "    \n",
    "    # Data = sample_standard, id_col = 'metaid', url_col = 'iconurl'\n",
    "    \n",
    "    # Sort the data by metaid\n",
    "    data = data.sort_values(by = [id_col,url_col])\n",
    "    \n",
    "    # Initialize previous metaid holder and url holder\n",
    "    prev_metaid = ''\n",
    "    prev_url = ''\n",
    "    # Initialize current metaid holder and url holder\n",
    "    current_metaid = ''\n",
    "    current_url = ''\n",
    "    # Initialize icon counter for the same metaid\n",
    "    icon_counter = -999\n",
    "\n",
    "    # Set the working directory to image folder\n",
    "    output_path = \"C:/TalkingData/PackageName Combine/image\"\n",
    "    os.chdir(output_path)    \n",
    "    \n",
    "    # If the output folder is NOT empty, empty the folder\n",
    "    fileList = os.listdir(output_path)\n",
    "    if fileList:\n",
    "        keyboard_input = input(\"The output folder has existed files. Do you want to empty the folder? (y/n)\")\n",
    "        if keyboard_input.lower() == 'y':\n",
    "            # Empty every file in the folder\n",
    "            for fileName in fileList:\n",
    "                os.remove(output_path + \"/\" + fileName)\n",
    "            print(\"\\nAll files in the output folder has been wiped out!\\n\")\n",
    "        elif keyboard_input.lower() == 'n':\n",
    "            print(\"\\nTake your time to deal with those files :)\")\n",
    "            return\n",
    "        else:\n",
    "            print(\"\\nPlease enter either y or n\")\n",
    "            return\n",
    "    \n",
    "    for index in tqdm(range(data.shape[0])):\n",
    "        \n",
    "        # Current icon link\n",
    "        link = data.loc[index,url_col]\n",
    "        \n",
    "        # If this is the first record\n",
    "        if prev_metaid == '':\n",
    "            current_metaid = data.loc[index,id_col]\n",
    "            current_url = data.loc[index,url_col]\n",
    "            prev_metaid = data.loc[index,id_col]\n",
    "            prev_url = data.loc[index,url_col]\n",
    "            icon_counter = 1\n",
    "        else:            \n",
    "            current_metaid = data.loc[index,id_col]\n",
    "            current_url = data.loc[index,url_col]\n",
    "            # If the pointer move to a new app (based on metaid)\n",
    "            if prev_metaid != current_metaid:\n",
    "                # Re-assign the value to prev_metaid\n",
    "                prev_metaid = current_metaid\n",
    "                prev_url = current_url\n",
    "                # Re-initialize the counter\n",
    "                icon_counter = 1\n",
    "            # If the pointer still points to records belongs to the same app (based on metaid)\n",
    "            else:\n",
    "                # If the url is not the same\n",
    "                if prev_url != current_url:\n",
    "                    # Increment the counter\n",
    "                    icon_counter += 1\n",
    "                else:\n",
    "                    next\n",
    "            \n",
    "        # Current file name\n",
    "        filename = r\"{}_{}.jpg\".format(current_metaid,icon_counter)\n",
    "        \n",
    "        # Retrive the image from URL and save it as JPG\n",
    "        try:\n",
    "            urllib.request.urlretrieve(link, filename)\n",
    "        # Write the Error Log to txt file\n",
    "        except urllib.error.URLError as err:\n",
    "            with codecs.open('Error_Log.txt','a','utf-8') as f:\n",
    "                f.write('Index: {}, Link: {}\\n URL Error, Reason: {}\\n'.format(index, link, err.reason))\n",
    "            f.close()\n",
    "            continue\n",
    "        except urllib.error.HTTPError as err: # e.g. HTTPError 404\n",
    "            with codecs.open('Error_Log.txt','a','utf-8') as f:\n",
    "                f.write('Index: {}, Link: {}\\n HTTP Error Code {}, Reason: {}\\n'.format(index, link, err.code, err.reason))\n",
    "            f.close()\n",
    "            continue\n",
    "        except ConnectionResetError as err:\n",
    "            with codecs.open('Error_Log.txt','a','utf-8') as f:\n",
    "                f.write('Index: {}, Link: {}\\n ConnectionResetError:{}\\n'.format(index, link, err))\n",
    "            f.close()\n",
    "            continue\n",
    "        except ValueError as err:\n",
    "            with codecs.open('Error_Log.txt','a','utf-8') as f:\n",
    "                f.write('Index: {}, Link: {}\\n ValueError: {}\\n'.format(index, link, err))\n",
    "            f.close()\n",
    "            continue\n",
    "        except TypeError as err: # e.g. nan\n",
    "            with codecs.open('Error_Log.txt','a','utf-8') as f:\n",
    "                f.write('Index: {}, Link: {}\\n TypeError: {}\\n'.format(index, link, err))\n",
    "            f.close()\n",
    "            continue"
   ]
  },
  {
   "cell_type": "code",
   "execution_count": null,
   "metadata": {
    "scrolled": true
   },
   "outputs": [
    {
     "name": "stdout",
     "output_type": "stream",
     "text": [
      "The output folder has existed files. Do you want to empty the folder? (y/n)y\n",
      "\n",
      "All files in the output folder has been wiped out!\n",
      "\n"
     ]
    },
    {
     "name": "stderr",
     "output_type": "stream",
     "text": [
      " 52%|██████████████████▋                 | 10046/19289 [15:00<13:48, 11.16it/s]"
     ]
    }
   ],
   "source": [
    "# Download image from url\n",
    "# download_icon(sample_standard,'metaid','iconurl')"
   ]
  },
  {
   "cell_type": "markdown",
   "metadata": {},
   "source": [
    "# Check label error"
   ]
  },
  {
   "cell_type": "code",
   "execution_count": 46,
   "metadata": {},
   "outputs": [
    {
     "data": {
      "text/html": [
       "<div>\n",
       "<style scoped>\n",
       "    .dataframe tbody tr th:only-of-type {\n",
       "        vertical-align: middle;\n",
       "    }\n",
       "\n",
       "    .dataframe tbody tr th {\n",
       "        vertical-align: top;\n",
       "    }\n",
       "\n",
       "    .dataframe thead th {\n",
       "        text-align: right;\n",
       "    }\n",
       "</style>\n",
       "<table border=\"1\" class=\"dataframe\">\n",
       "  <thead>\n",
       "    <tr style=\"text-align: right;\">\n",
       "      <th></th>\n",
       "      <th>metaid</th>\n",
       "      <th>appName_orig</th>\n",
       "      <th>name_en</th>\n",
       "      <th>name_ch</th>\n",
       "      <th>appName_standard</th>\n",
       "      <th>packageName</th>\n",
       "      <th>hash</th>\n",
       "      <th>iconurl</th>\n",
       "      <th>typeid</th>\n",
       "      <th>parentid</th>\n",
       "      <th>TD_category</th>\n",
       "      <th>developerName</th>\n",
       "      <th>version</th>\n",
       "      <th>update</th>\n",
       "      <th>platform</th>\n",
       "      <th>reference</th>\n",
       "      <th>comment</th>\n",
       "      <th>lastupdate</th>\n",
       "    </tr>\n",
       "  </thead>\n",
       "  <tbody>\n",
       "    <tr>\n",
       "      <th>4299</th>\n",
       "      <td>5578</td>\n",
       "      <td>一起欢乐斗地主</td>\n",
       "      <td>NaN</td>\n",
       "      <td>yiqihuanledoudizhu</td>\n",
       "      <td>一起欢乐斗地主</td>\n",
       "      <td>com.bohaoo.doudizhu.HUAWEI</td>\n",
       "      <td>-3069078904196073845</td>\n",
       "      <td>http://pp.myapp.com/ma_icon/0/icon_10078435_14...</td>\n",
       "      <td>T202000</td>\n",
       "      <td>T200000</td>\n",
       "      <td>棋牌游戏</td>\n",
       "      <td>NaN</td>\n",
       "      <td>NaN</td>\n",
       "      <td>NaN</td>\n",
       "      <td>2</td>\n",
       "      <td>NaN</td>\n",
       "      <td>NaN</td>\n",
       "      <td>2018/2/26</td>\n",
       "    </tr>\n",
       "    <tr>\n",
       "      <th>4300</th>\n",
       "      <td>5578</td>\n",
       "      <td>一起欢乐斗地主</td>\n",
       "      <td>NaN</td>\n",
       "      <td>yiqihuanledoudizhu</td>\n",
       "      <td>NaN</td>\n",
       "      <td>com.bohaoo.guanwanbaidu</td>\n",
       "      <td>5687855777121502948</td>\n",
       "      <td>http://pp.myapp.com/ma_icon/0/icon_10078435_14...</td>\n",
       "      <td>T202000</td>\n",
       "      <td>T200000</td>\n",
       "      <td>棋牌游戏</td>\n",
       "      <td>NaN</td>\n",
       "      <td>NaN</td>\n",
       "      <td>NaN</td>\n",
       "      <td>2</td>\n",
       "      <td>NaN</td>\n",
       "      <td>NaN</td>\n",
       "      <td>2018/2/26</td>\n",
       "    </tr>\n",
       "    <tr>\n",
       "      <th>4301</th>\n",
       "      <td>5578</td>\n",
       "      <td>一起欢乐斗地主</td>\n",
       "      <td>NaN</td>\n",
       "      <td>yiqihuanledoudizhu</td>\n",
       "      <td>NaN</td>\n",
       "      <td>com.bohaoo.hldoudizhu.mi</td>\n",
       "      <td>59326790103357944</td>\n",
       "      <td>http://file.market.xiaomi.com/thumbnail/PNG/l1...</td>\n",
       "      <td>T202000</td>\n",
       "      <td>T200000</td>\n",
       "      <td>棋牌游戏</td>\n",
       "      <td>上海域起网络科技有限公司</td>\n",
       "      <td>4.0.1.0</td>\n",
       "      <td>2017-08-18</td>\n",
       "      <td>2</td>\n",
       "      <td>http://app.mi.com/details?id=com.bohaoo.hldoud...</td>\n",
       "      <td>NaN</td>\n",
       "      <td>2018/2/26</td>\n",
       "    </tr>\n",
       "    <tr>\n",
       "      <th>4302</th>\n",
       "      <td>5578</td>\n",
       "      <td>一起欢乐斗地主</td>\n",
       "      <td>NaN</td>\n",
       "      <td>yiqihuanledoudizhu</td>\n",
       "      <td>NaN</td>\n",
       "      <td>com.bohaoo.doudizhu</td>\n",
       "      <td>-7843105176209930326</td>\n",
       "      <td>http://pp.myapp.com/ma_icon/0/icon_10078435_14...</td>\n",
       "      <td>T202000</td>\n",
       "      <td>T200000</td>\n",
       "      <td>棋牌游戏</td>\n",
       "      <td>NaN</td>\n",
       "      <td>NaN</td>\n",
       "      <td>NaN</td>\n",
       "      <td>2</td>\n",
       "      <td>NaN</td>\n",
       "      <td>NaN</td>\n",
       "      <td>2018/2/26</td>\n",
       "    </tr>\n",
       "    <tr>\n",
       "      <th>16081</th>\n",
       "      <td>117308</td>\n",
       "      <td>斗地主</td>\n",
       "      <td>NaN</td>\n",
       "      <td>doudizhu</td>\n",
       "      <td>斗地主</td>\n",
       "      <td>cn.xlgame.xlddzsa.baidu</td>\n",
       "      <td>4855603287310664227</td>\n",
       "      <td>http://pp.myapp.com/ma_icon/0/icon_11994659_14...</td>\n",
       "      <td>T202000</td>\n",
       "      <td>T200000</td>\n",
       "      <td>棋牌游戏</td>\n",
       "      <td>NaN</td>\n",
       "      <td>NaN</td>\n",
       "      <td>NaN</td>\n",
       "      <td>2</td>\n",
       "      <td>NaN</td>\n",
       "      <td>NaN</td>\n",
       "      <td>2018/2/26</td>\n",
       "    </tr>\n",
       "    <tr>\n",
       "      <th>16082</th>\n",
       "      <td>117308</td>\n",
       "      <td>斗地主</td>\n",
       "      <td>NaN</td>\n",
       "      <td>doudizhu</td>\n",
       "      <td>NaN</td>\n",
       "      <td>com.danjidzz.doudizhu</td>\n",
       "      <td>-1880164722943170628</td>\n",
       "      <td>http://pp.myapp.com/ma_icon/0/icon_11994659_14...</td>\n",
       "      <td>T202000</td>\n",
       "      <td>T200000</td>\n",
       "      <td>棋牌游戏</td>\n",
       "      <td>NaN</td>\n",
       "      <td>NaN</td>\n",
       "      <td>NaN</td>\n",
       "      <td>2</td>\n",
       "      <td>NaN</td>\n",
       "      <td>NaN</td>\n",
       "      <td>2018/2/26</td>\n",
       "    </tr>\n",
       "  </tbody>\n",
       "</table>\n",
       "</div>"
      ],
      "text/plain": [
       "       metaid appName_orig name_en             name_ch appName_standard  \\\n",
       "4299     5578      一起欢乐斗地主     NaN  yiqihuanledoudizhu          一起欢乐斗地主   \n",
       "4300     5578      一起欢乐斗地主     NaN  yiqihuanledoudizhu              NaN   \n",
       "4301     5578      一起欢乐斗地主     NaN  yiqihuanledoudizhu              NaN   \n",
       "4302     5578      一起欢乐斗地主     NaN  yiqihuanledoudizhu              NaN   \n",
       "16081  117308          斗地主     NaN            doudizhu              斗地主   \n",
       "16082  117308          斗地主     NaN            doudizhu              NaN   \n",
       "\n",
       "                      packageName                 hash  \\\n",
       "4299   com.bohaoo.doudizhu.HUAWEI -3069078904196073845   \n",
       "4300      com.bohaoo.guanwanbaidu  5687855777121502948   \n",
       "4301     com.bohaoo.hldoudizhu.mi    59326790103357944   \n",
       "4302          com.bohaoo.doudizhu -7843105176209930326   \n",
       "16081     cn.xlgame.xlddzsa.baidu  4855603287310664227   \n",
       "16082       com.danjidzz.doudizhu -1880164722943170628   \n",
       "\n",
       "                                                 iconurl   typeid parentid  \\\n",
       "4299   http://pp.myapp.com/ma_icon/0/icon_10078435_14...  T202000  T200000   \n",
       "4300   http://pp.myapp.com/ma_icon/0/icon_10078435_14...  T202000  T200000   \n",
       "4301   http://file.market.xiaomi.com/thumbnail/PNG/l1...  T202000  T200000   \n",
       "4302   http://pp.myapp.com/ma_icon/0/icon_10078435_14...  T202000  T200000   \n",
       "16081  http://pp.myapp.com/ma_icon/0/icon_11994659_14...  T202000  T200000   \n",
       "16082  http://pp.myapp.com/ma_icon/0/icon_11994659_14...  T202000  T200000   \n",
       "\n",
       "      TD_category developerName  version      update  platform  \\\n",
       "4299         棋牌游戏           NaN      NaN         NaN         2   \n",
       "4300         棋牌游戏           NaN      NaN         NaN         2   \n",
       "4301         棋牌游戏  上海域起网络科技有限公司  4.0.1.0  2017-08-18         2   \n",
       "4302         棋牌游戏           NaN      NaN         NaN         2   \n",
       "16081        棋牌游戏           NaN      NaN         NaN         2   \n",
       "16082        棋牌游戏           NaN      NaN         NaN         2   \n",
       "\n",
       "                                               reference  comment lastupdate  \n",
       "4299                                                 NaN      NaN  2018/2/26  \n",
       "4300                                                 NaN      NaN  2018/2/26  \n",
       "4301   http://app.mi.com/details?id=com.bohaoo.hldoud...      NaN  2018/2/26  \n",
       "4302                                                 NaN      NaN  2018/2/26  \n",
       "16081                                                NaN      NaN  2018/2/26  \n",
       "16082                                                NaN      NaN  2018/2/26  "
      ]
     },
     "execution_count": 46,
     "metadata": {},
     "output_type": "execute_result"
    }
   ],
   "source": [
    "sample_standard[(sample_standard.metaid==5578)|(sample_standard.metaid==117308)]"
   ]
  },
  {
   "cell_type": "code",
   "execution_count": 48,
   "metadata": {},
   "outputs": [
    {
     "data": {
      "text/html": [
       "<div>\n",
       "<style scoped>\n",
       "    .dataframe tbody tr th:only-of-type {\n",
       "        vertical-align: middle;\n",
       "    }\n",
       "\n",
       "    .dataframe tbody tr th {\n",
       "        vertical-align: top;\n",
       "    }\n",
       "\n",
       "    .dataframe thead th {\n",
       "        text-align: right;\n",
       "    }\n",
       "</style>\n",
       "<table border=\"1\" class=\"dataframe\">\n",
       "  <thead>\n",
       "    <tr style=\"text-align: right;\">\n",
       "      <th></th>\n",
       "      <th>metaid</th>\n",
       "      <th>appName_orig</th>\n",
       "      <th>name_en</th>\n",
       "      <th>name_ch</th>\n",
       "      <th>appName_standard</th>\n",
       "      <th>packageName</th>\n",
       "      <th>hash</th>\n",
       "      <th>iconurl</th>\n",
       "      <th>typeid</th>\n",
       "      <th>parentid</th>\n",
       "      <th>TD_category</th>\n",
       "      <th>developerName</th>\n",
       "      <th>version</th>\n",
       "      <th>update</th>\n",
       "      <th>platform</th>\n",
       "      <th>reference</th>\n",
       "      <th>comment</th>\n",
       "      <th>lastupdate</th>\n",
       "    </tr>\n",
       "  </thead>\n",
       "  <tbody>\n",
       "    <tr>\n",
       "      <th>8364</th>\n",
       "      <td>14747</td>\n",
       "      <td>密室逃脱5逃出博物馆</td>\n",
       "      <td>NaN</td>\n",
       "      <td>mishitaotuo5taochubowuguan</td>\n",
       "      <td>密室逃脱5逃出博物馆</td>\n",
       "      <td>com.martian.RoomEscape5.ex</td>\n",
       "      <td>6506285767612899972</td>\n",
       "      <td>http://p15.qhimg.com/t01515d30a416452fe2.png</td>\n",
       "      <td>T201400</td>\n",
       "      <td>T200000</td>\n",
       "      <td>智力游戏</td>\n",
       "      <td>深圳市火星人互动娱乐有限公司</td>\n",
       "      <td>5.17.41</td>\n",
       "      <td>2017/5/8</td>\n",
       "      <td>2</td>\n",
       "      <td>http://zhushou.360.cn/detail/index/soft_id/318...</td>\n",
       "      <td>NaN</td>\n",
       "      <td>2018/2/26</td>\n",
       "    </tr>\n",
       "    <tr>\n",
       "      <th>8365</th>\n",
       "      <td>14747</td>\n",
       "      <td>密室逃脱3之逃出办公室</td>\n",
       "      <td>NaN</td>\n",
       "      <td>mishitaotuo3zhitaochubangongshi</td>\n",
       "      <td>NaN</td>\n",
       "      <td>com.martian.RoomEscape8.nearme.gamecenter</td>\n",
       "      <td>-3081267826966829169</td>\n",
       "      <td>http://pp.myapp.com/ma_icon/0/icon_12207685_14...</td>\n",
       "      <td>T201400</td>\n",
       "      <td>T200000</td>\n",
       "      <td>智力游戏</td>\n",
       "      <td>NaN</td>\n",
       "      <td>NaN</td>\n",
       "      <td>NaN</td>\n",
       "      <td>2</td>\n",
       "      <td>NaN</td>\n",
       "      <td>NaN</td>\n",
       "      <td>2018/2/26</td>\n",
       "    </tr>\n",
       "    <tr>\n",
       "      <th>8366</th>\n",
       "      <td>14747</td>\n",
       "      <td>密室逃脱3之逃出办公室</td>\n",
       "      <td>NaN</td>\n",
       "      <td>mishitaotuo3zhitaochubangongshi</td>\n",
       "      <td>NaN</td>\n",
       "      <td>com.martian.RoomEscape3.gfan</td>\n",
       "      <td>-3771820236094291357</td>\n",
       "      <td>http://pp.myapp.com/ma_icon/0/icon_12207685_14...</td>\n",
       "      <td>T201400</td>\n",
       "      <td>T200000</td>\n",
       "      <td>智力游戏</td>\n",
       "      <td>NaN</td>\n",
       "      <td>NaN</td>\n",
       "      <td>NaN</td>\n",
       "      <td>2</td>\n",
       "      <td>NaN</td>\n",
       "      <td>NaN</td>\n",
       "      <td>2018/2/26</td>\n",
       "    </tr>\n",
       "    <tr>\n",
       "      <th>8367</th>\n",
       "      <td>14747</td>\n",
       "      <td>密室逃脱3之逃出办公室</td>\n",
       "      <td>NaN</td>\n",
       "      <td>mishitaotuo3zhitaochubangongshi</td>\n",
       "      <td>NaN</td>\n",
       "      <td>com.martian.RoomEscape3.ex</td>\n",
       "      <td>6506285767608403790</td>\n",
       "      <td>http://p15.qhimg.com/t015fccc7dbfd87c917.png</td>\n",
       "      <td>T201400</td>\n",
       "      <td>T200000</td>\n",
       "      <td>智力游戏</td>\n",
       "      <td>深圳市火星人互动娱乐有限公司</td>\n",
       "      <td>3.0.2</td>\n",
       "      <td>2016/3/10</td>\n",
       "      <td>2</td>\n",
       "      <td>http://zhushou.360.cn/detail/index/soft_id/314...</td>\n",
       "      <td>NaN</td>\n",
       "      <td>2018/2/26</td>\n",
       "    </tr>\n",
       "    <tr>\n",
       "      <th>8368</th>\n",
       "      <td>14747</td>\n",
       "      <td>密室逃脱3之逃出办公室</td>\n",
       "      <td>NaN</td>\n",
       "      <td>mishitaotuo3zhitaochubangongshi</td>\n",
       "      <td>NaN</td>\n",
       "      <td>com.martian.RoomEscape3.oppo</td>\n",
       "      <td>-3771820236076133053</td>\n",
       "      <td>http://pp.myapp.com/ma_icon/0/icon_12207685_14...</td>\n",
       "      <td>T201400</td>\n",
       "      <td>T200000</td>\n",
       "      <td>智力游戏</td>\n",
       "      <td>NaN</td>\n",
       "      <td>NaN</td>\n",
       "      <td>NaN</td>\n",
       "      <td>2</td>\n",
       "      <td>NaN</td>\n",
       "      <td>NaN</td>\n",
       "      <td>2018/2/26</td>\n",
       "    </tr>\n",
       "  </tbody>\n",
       "</table>\n",
       "</div>"
      ],
      "text/plain": [
       "      metaid appName_orig name_en                          name_ch  \\\n",
       "8364   14747   密室逃脱5逃出博物馆     NaN       mishitaotuo5taochubowuguan   \n",
       "8365   14747  密室逃脱3之逃出办公室     NaN  mishitaotuo3zhitaochubangongshi   \n",
       "8366   14747  密室逃脱3之逃出办公室     NaN  mishitaotuo3zhitaochubangongshi   \n",
       "8367   14747  密室逃脱3之逃出办公室     NaN  mishitaotuo3zhitaochubangongshi   \n",
       "8368   14747  密室逃脱3之逃出办公室     NaN  mishitaotuo3zhitaochubangongshi   \n",
       "\n",
       "     appName_standard                                packageName  \\\n",
       "8364       密室逃脱5逃出博物馆                 com.martian.RoomEscape5.ex   \n",
       "8365              NaN  com.martian.RoomEscape8.nearme.gamecenter   \n",
       "8366              NaN               com.martian.RoomEscape3.gfan   \n",
       "8367              NaN                 com.martian.RoomEscape3.ex   \n",
       "8368              NaN               com.martian.RoomEscape3.oppo   \n",
       "\n",
       "                     hash                                            iconurl  \\\n",
       "8364  6506285767612899972       http://p15.qhimg.com/t01515d30a416452fe2.png   \n",
       "8365 -3081267826966829169  http://pp.myapp.com/ma_icon/0/icon_12207685_14...   \n",
       "8366 -3771820236094291357  http://pp.myapp.com/ma_icon/0/icon_12207685_14...   \n",
       "8367  6506285767608403790       http://p15.qhimg.com/t015fccc7dbfd87c917.png   \n",
       "8368 -3771820236076133053  http://pp.myapp.com/ma_icon/0/icon_12207685_14...   \n",
       "\n",
       "       typeid parentid TD_category   developerName  version     update  \\\n",
       "8364  T201400  T200000        智力游戏  深圳市火星人互动娱乐有限公司  5.17.41   2017/5/8   \n",
       "8365  T201400  T200000        智力游戏             NaN      NaN        NaN   \n",
       "8366  T201400  T200000        智力游戏             NaN      NaN        NaN   \n",
       "8367  T201400  T200000        智力游戏  深圳市火星人互动娱乐有限公司    3.0.2  2016/3/10   \n",
       "8368  T201400  T200000        智力游戏             NaN      NaN        NaN   \n",
       "\n",
       "      platform                                          reference  comment  \\\n",
       "8364         2  http://zhushou.360.cn/detail/index/soft_id/318...      NaN   \n",
       "8365         2                                                NaN      NaN   \n",
       "8366         2                                                NaN      NaN   \n",
       "8367         2  http://zhushou.360.cn/detail/index/soft_id/314...      NaN   \n",
       "8368         2                                                NaN      NaN   \n",
       "\n",
       "     lastupdate  \n",
       "8364  2018/2/26  \n",
       "8365  2018/2/26  \n",
       "8366  2018/2/26  \n",
       "8367  2018/2/26  \n",
       "8368  2018/2/26  "
      ]
     },
     "execution_count": 48,
     "metadata": {},
     "output_type": "execute_result"
    }
   ],
   "source": [
    "sample_standard[sample_standard.metaid==14747]"
   ]
  },
  {
   "cell_type": "code",
   "execution_count": null,
   "metadata": {},
   "outputs": [],
   "source": []
  },
  {
   "cell_type": "code",
   "execution_count": null,
   "metadata": {},
   "outputs": [],
   "source": []
  }
 ],
 "metadata": {
  "kernelspec": {
   "display_name": "Python 3",
   "language": "python",
   "name": "python3"
  },
  "language_info": {
   "codemirror_mode": {
    "name": "ipython",
    "version": 3
   },
   "file_extension": ".py",
   "mimetype": "text/x-python",
   "name": "python",
   "nbconvert_exporter": "python",
   "pygments_lexer": "ipython3",
   "version": "3.6.4"
  }
 },
 "nbformat": 4,
 "nbformat_minor": 2
}
